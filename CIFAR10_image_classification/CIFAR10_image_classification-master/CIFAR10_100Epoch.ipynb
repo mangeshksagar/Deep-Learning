{
 "cells": [
  {
   "cell_type": "code",
   "execution_count": 1,
   "metadata": {},
   "outputs": [
    {
     "name": "stderr",
     "output_type": "stream",
     "text": [
      "Using TensorFlow backend.\n"
     ]
    }
   ],
   "source": [
    "from __future__ import print_function\n",
    "import keras\n",
    "from keras.datasets import cifar10\n",
    "from keras.preprocessing.image import ImageDataGenerator\n",
    "from keras.models import Sequential\n",
    "from keras.layers import Dense, Dropout, Activation, Flatten\n",
    "from keras.layers import Conv2D, MaxPooling2D\n",
    "import os"
   ]
  },
  {
   "cell_type": "code",
   "execution_count": 2,
   "metadata": {},
   "outputs": [],
   "source": [
    "batch_size = 32\n",
    "num_classes = 10\n",
    "epochs = 100\n",
    "data_augmentation = True\n",
    "num_predictions = 20\n",
    "save_dir = os.path.join(os.getcwd(), 'saved_models')\n",
    "model_name = 'keras_cifar10_trained_model.h5'"
   ]
  },
  {
   "cell_type": "markdown",
   "metadata": {},
   "source": [
    "## The data, split between train and test sets:"
   ]
  },
  {
   "cell_type": "code",
   "execution_count": 4,
   "metadata": {},
   "outputs": [
    {
     "name": "stdout",
     "output_type": "stream",
     "text": [
      "x_train shape: (50000, 32, 32, 3)\n",
      "50000 train samples\n",
      "10000 test samples\n"
     ]
    }
   ],
   "source": [
    "(x_train, y_train), (x_test, y_test) = cifar10.load_data()\n",
    "print('x_train shape:', x_train.shape)\n",
    "print(x_train.shape[0], 'train samples')\n",
    "print(x_test.shape[0], 'test samples')"
   ]
  },
  {
   "cell_type": "markdown",
   "metadata": {},
   "source": [
    "## Convert class vectors to binary class matrices"
   ]
  },
  {
   "cell_type": "code",
   "execution_count": 5,
   "metadata": {},
   "outputs": [],
   "source": [
    "y_train = keras.utils.to_categorical(y_train, num_classes)\n",
    "y_test = keras.utils.to_categorical(y_test, num_classes)"
   ]
  },
  {
   "cell_type": "markdown",
   "metadata": {},
   "source": [
    "## Making Layers For Network"
   ]
  },
  {
   "cell_type": "code",
   "execution_count": 7,
   "metadata": {},
   "outputs": [],
   "source": [
    "model = Sequential()\n",
    "model.add(Conv2D(32, (3, 3), padding='same',\n",
    "                 input_shape=x_train.shape[1:]))\n",
    "model.add(Activation('relu'))\n",
    "model.add(Conv2D(32, (3, 3)))\n",
    "model.add(Activation('relu'))\n",
    "model.add(MaxPooling2D(pool_size=(2, 2)))\n",
    "model.add(Dropout(0.25))\n",
    "\n",
    "model.add(Conv2D(64, (3, 3), padding='same'))\n",
    "model.add(Activation('relu'))\n",
    "model.add(Conv2D(64, (3, 3)))\n",
    "model.add(Activation('relu'))\n",
    "model.add(MaxPooling2D(pool_size=(2, 2)))\n",
    "model.add(Dropout(0.25))\n",
    "\n",
    "model.add(Flatten())\n",
    "model.add(Dense(512))\n",
    "model.add(Activation('relu'))\n",
    "model.add(Dropout(0.5))\n",
    "model.add(Dense(num_classes))\n",
    "model.add(Activation('softmax'))"
   ]
  },
  {
   "cell_type": "markdown",
   "metadata": {},
   "source": [
    "## initiate RMSprop optimizer"
   ]
  },
  {
   "cell_type": "code",
   "execution_count": 8,
   "metadata": {},
   "outputs": [],
   "source": [
    "opt = keras.optimizers.RMSprop(learning_rate=0.0001, decay=1e-6)"
   ]
  },
  {
   "cell_type": "markdown",
   "metadata": {},
   "source": [
    "## Let's train the model using RMSprop optimizer"
   ]
  },
  {
   "cell_type": "code",
   "execution_count": 9,
   "metadata": {},
   "outputs": [],
   "source": [
    "model.compile(loss='categorical_crossentropy',\n",
    "              optimizer=opt,\n",
    "              metrics=['accuracy'])"
   ]
  },
  {
   "cell_type": "code",
   "execution_count": 10,
   "metadata": {},
   "outputs": [],
   "source": [
    "x_train = x_train.astype('float32')\n",
    "x_test = x_test.astype('float32')\n",
    "x_train /= 255\n",
    "x_test /= 255"
   ]
  },
  {
   "cell_type": "code",
   "execution_count": 11,
   "metadata": {},
   "outputs": [
    {
     "name": "stdout",
     "output_type": "stream",
     "text": [
      "Using real-time data augmentation.\n"
     ]
    }
   ],
   "source": [
    "if not data_augmentation:\n",
    "    print('Not using data augmentation.')\n",
    "    model.fit(x_train, y_train,\n",
    "              batch_size=batch_size,\n",
    "              epochs=epochs,\n",
    "              validation_data=(x_test, y_test),\n",
    "              shuffle=True)\n",
    "else:\n",
    "    print('Using real-time data augmentation.')\n",
    "    # This will do preprocessing and realtime data augmentation:\n",
    "    datagen = ImageDataGenerator(\n",
    "        featurewise_center=False,  # set input mean to 0 over the dataset\n",
    "        samplewise_center=False,  # set each sample mean to 0\n",
    "        featurewise_std_normalization=False,  # divide inputs by std of the dataset\n",
    "        samplewise_std_normalization=False,  # divide each input by its std\n",
    "        zca_whitening=False,  # apply ZCA whitening\n",
    "        zca_epsilon=1e-06,  # epsilon for ZCA whitening\n",
    "        rotation_range=0,  # randomly rotate images in the range (degrees, 0 to 180)\n",
    "        # randomly shift images horizontally (fraction of total width)\n",
    "        width_shift_range=0.1,\n",
    "        # randomly shift images vertically (fraction of total height)\n",
    "        height_shift_range=0.1,\n",
    "        shear_range=0.,  # set range for random shear\n",
    "        zoom_range=0.,  # set range for random zoom\n",
    "        channel_shift_range=0.,  # set range for random channel shifts\n",
    "        # set mode for filling points outside the input boundaries\n",
    "        fill_mode='nearest',\n",
    "        cval=0.,  # value used for fill_mode = \"constant\"\n",
    "        horizontal_flip=True,  # randomly flip images\n",
    "        vertical_flip=False,  # randomly flip images\n",
    "        # set rescaling factor (applied before any other transformation)\n",
    "        rescale=None,\n",
    "        # set function that will be applied on each input\n",
    "        preprocessing_function=None,\n",
    "        # image data format, either \"channels_first\" or \"channels_last\"\n",
    "        data_format=None,\n",
    "        # fraction of images reserved for validation (strictly between 0 and 1)\n",
    "        validation_split=0.0)"
   ]
  },
  {
   "cell_type": "markdown",
   "metadata": {},
   "source": [
    "### Compute quantities required for feature-wise normalization\n",
    "    (std, mean, and principal components if ZCA whitening is applied)"
   ]
  },
  {
   "cell_type": "code",
   "execution_count": 12,
   "metadata": {},
   "outputs": [],
   "source": [
    "datagen.fit(x_train)"
   ]
  },
  {
   "cell_type": "markdown",
   "metadata": {},
   "source": [
    "### Fit the model on the batches generated by datagen.flow()"
   ]
  },
  {
   "cell_type": "code",
   "execution_count": 13,
   "metadata": {},
   "outputs": [
    {
     "name": "stdout",
     "output_type": "stream",
     "text": [
      "Epoch 1/100\n",
      "1563/1563 [==============================] - 125s 80ms/step - loss: 1.8658 - accuracy: 0.3100 - val_loss: 1.5109 - val_accuracy: 0.4522\n",
      "Epoch 2/100\n",
      "1563/1563 [==============================] - 122s 78ms/step - loss: 1.5703 - accuracy: 0.4276 - val_loss: 1.3676 - val_accuracy: 0.5049\n",
      "Epoch 3/100\n",
      "1563/1563 [==============================] - 117s 75ms/step - loss: 1.4644 - accuracy: 0.4715 - val_loss: 1.2979 - val_accuracy: 0.5324\n",
      "Epoch 4/100\n",
      "1563/1563 [==============================] - 116s 74ms/step - loss: 1.3910 - accuracy: 0.5024 - val_loss: 1.2470 - val_accuracy: 0.5550\n",
      "Epoch 5/100\n",
      "1563/1563 [==============================] - 118s 75ms/step - loss: 1.3308 - accuracy: 0.5242 - val_loss: 1.1880 - val_accuracy: 0.5773\n",
      "Epoch 6/100\n",
      "1563/1563 [==============================] - 131s 84ms/step - loss: 1.2735 - accuracy: 0.5464 - val_loss: 1.2003 - val_accuracy: 0.5736\n",
      "Epoch 7/100\n",
      "1563/1563 [==============================] - 130s 83ms/step - loss: 1.2262 - accuracy: 0.5644 - val_loss: 1.0641 - val_accuracy: 0.6213\n",
      "Epoch 8/100\n",
      "1563/1563 [==============================] - 142s 91ms/step - loss: 1.1834 - accuracy: 0.5798 - val_loss: 1.0601 - val_accuracy: 0.6276\n",
      "Epoch 9/100\n",
      "1563/1563 [==============================] - 124s 79ms/step - loss: 1.1400 - accuracy: 0.5972 - val_loss: 1.0032 - val_accuracy: 0.6480\n",
      "Epoch 10/100\n",
      "1563/1563 [==============================] - 128s 82ms/step - loss: 1.1043 - accuracy: 0.6097 - val_loss: 0.9843 - val_accuracy: 0.6558\n",
      "Epoch 11/100\n",
      "1563/1563 [==============================] - 124s 80ms/step - loss: 1.0792 - accuracy: 0.6217 - val_loss: 0.9690 - val_accuracy: 0.6587\n",
      "Epoch 12/100\n",
      "1563/1563 [==============================] - 137s 87ms/step - loss: 1.0486 - accuracy: 0.6320 - val_loss: 0.9083 - val_accuracy: 0.6772\n",
      "Epoch 13/100\n",
      "1563/1563 [==============================] - 118s 76ms/step - loss: 1.0203 - accuracy: 0.6404 - val_loss: 0.9165 - val_accuracy: 0.6767\n",
      "Epoch 14/100\n",
      "1563/1563 [==============================] - 117s 75ms/step - loss: 1.0003 - accuracy: 0.6482 - val_loss: 0.9332 - val_accuracy: 0.6776\n",
      "Epoch 15/100\n",
      "1563/1563 [==============================] - 147s 94ms/step - loss: 0.9796 - accuracy: 0.6578 - val_loss: 0.8858 - val_accuracy: 0.6890\n",
      "Epoch 16/100\n",
      "1563/1563 [==============================] - 128s 82ms/step - loss: 0.9618 - accuracy: 0.6612 - val_loss: 0.9235 - val_accuracy: 0.6862\n",
      "Epoch 17/100\n",
      "1563/1563 [==============================] - 126s 80ms/step - loss: 0.9503 - accuracy: 0.6680 - val_loss: 0.8390 - val_accuracy: 0.7107\n",
      "Epoch 18/100\n",
      "1563/1563 [==============================] - 131s 84ms/step - loss: 0.9330 - accuracy: 0.6743 - val_loss: 0.8179 - val_accuracy: 0.7146\n",
      "Epoch 19/100\n",
      "1563/1563 [==============================] - 132s 84ms/step - loss: 0.9239 - accuracy: 0.6775 - val_loss: 0.8395 - val_accuracy: 0.7092\n",
      "Epoch 20/100\n",
      "1563/1563 [==============================] - 121s 77ms/step - loss: 0.9148 - accuracy: 0.6844 - val_loss: 0.8179 - val_accuracy: 0.7150\n",
      "Epoch 21/100\n",
      "1563/1563 [==============================] - 117s 75ms/step - loss: 0.9019 - accuracy: 0.6859 - val_loss: 0.7684 - val_accuracy: 0.7351\n",
      "Epoch 22/100\n",
      "1563/1563 [==============================] - 123s 79ms/step - loss: 0.8928 - accuracy: 0.6907 - val_loss: 0.7955 - val_accuracy: 0.7326\n",
      "Epoch 23/100\n",
      "1563/1563 [==============================] - 127s 81ms/step - loss: 0.8909 - accuracy: 0.6927 - val_loss: 0.8032 - val_accuracy: 0.7224\n",
      "Epoch 24/100\n",
      "1563/1563 [==============================] - 152s 97ms/step - loss: 0.8807 - accuracy: 0.6974 - val_loss: 0.8080 - val_accuracy: 0.7246\n",
      "Epoch 25/100\n",
      "1563/1563 [==============================] - 116s 74ms/step - loss: 0.8726 - accuracy: 0.7000 - val_loss: 0.7224 - val_accuracy: 0.7531\n",
      "Epoch 26/100\n",
      "1563/1563 [==============================] - 117s 75ms/step - loss: 0.8678 - accuracy: 0.7009 - val_loss: 0.7832 - val_accuracy: 0.7313\n",
      "Epoch 27/100\n",
      "1563/1563 [==============================] - 117s 75ms/step - loss: 0.8619 - accuracy: 0.7052 - val_loss: 0.7825 - val_accuracy: 0.7380\n",
      "Epoch 28/100\n",
      "1563/1563 [==============================] - 118s 75ms/step - loss: 0.8522 - accuracy: 0.7085 - val_loss: 0.7821 - val_accuracy: 0.7322\n",
      "Epoch 29/100\n",
      "1563/1563 [==============================] - 116s 74ms/step - loss: 0.8550 - accuracy: 0.7071 - val_loss: 0.7562 - val_accuracy: 0.7444\n",
      "Epoch 30/100\n",
      "1563/1563 [==============================] - 116s 74ms/step - loss: 0.8475 - accuracy: 0.7099 - val_loss: 0.7516 - val_accuracy: 0.7442\n",
      "Epoch 31/100\n",
      "1563/1563 [==============================] - 116s 74ms/step - loss: 0.8404 - accuracy: 0.7123 - val_loss: 0.7428 - val_accuracy: 0.7458\n",
      "Epoch 32/100\n",
      "1563/1563 [==============================] - 116s 74ms/step - loss: 0.8413 - accuracy: 0.7131 - val_loss: 0.7971 - val_accuracy: 0.7296\n",
      "Epoch 33/100\n",
      "1563/1563 [==============================] - 116s 74ms/step - loss: 0.8348 - accuracy: 0.7140 - val_loss: 0.7539 - val_accuracy: 0.7458\n",
      "Epoch 34/100\n",
      "1563/1563 [==============================] - 116s 74ms/step - loss: 0.8267 - accuracy: 0.7191 - val_loss: 0.7134 - val_accuracy: 0.7577\n",
      "Epoch 35/100\n",
      "1563/1563 [==============================] - 116s 74ms/step - loss: 0.8274 - accuracy: 0.7177 - val_loss: 0.7672 - val_accuracy: 0.7484\n",
      "Epoch 36/100\n",
      "1563/1563 [==============================] - 116s 74ms/step - loss: 0.8239 - accuracy: 0.7203 - val_loss: 0.7579 - val_accuracy: 0.7430\n",
      "Epoch 37/100\n",
      "1563/1563 [==============================] - 116s 74ms/step - loss: 0.8217 - accuracy: 0.7204 - val_loss: 0.7682 - val_accuracy: 0.7485\n",
      "Epoch 38/100\n",
      "1563/1563 [==============================] - 116s 74ms/step - loss: 0.8238 - accuracy: 0.7192 - val_loss: 0.6917 - val_accuracy: 0.7720\n",
      "Epoch 39/100\n",
      "1563/1563 [==============================] - 116s 74ms/step - loss: 0.8138 - accuracy: 0.7228 - val_loss: 0.7381 - val_accuracy: 0.7592\n",
      "Epoch 40/100\n",
      "1563/1563 [==============================] - 116s 74ms/step - loss: 0.8129 - accuracy: 0.7249 - val_loss: 0.7339 - val_accuracy: 0.7581\n",
      "Epoch 41/100\n",
      "1563/1563 [==============================] - 115s 74ms/step - loss: 0.8134 - accuracy: 0.7234 - val_loss: 0.7353 - val_accuracy: 0.7575\n",
      "Epoch 42/100\n",
      "1563/1563 [==============================] - 116s 74ms/step - loss: 0.8111 - accuracy: 0.7229 - val_loss: 0.7414 - val_accuracy: 0.7526\n",
      "Epoch 43/100\n",
      "1563/1563 [==============================] - 115s 74ms/step - loss: 0.7999 - accuracy: 0.7265 - val_loss: 0.7489 - val_accuracy: 0.7548\n",
      "Epoch 44/100\n",
      "1563/1563 [==============================] - 116s 74ms/step - loss: 0.8029 - accuracy: 0.7281 - val_loss: 0.7141 - val_accuracy: 0.7759\n",
      "Epoch 45/100\n",
      "1563/1563 [==============================] - 116s 74ms/step - loss: 0.8102 - accuracy: 0.7254 - val_loss: 0.7116 - val_accuracy: 0.7678\n",
      "Epoch 46/100\n",
      "1563/1563 [==============================] - 116s 74ms/step - loss: 0.7998 - accuracy: 0.7296 - val_loss: 0.7022 - val_accuracy: 0.7669\n",
      "Epoch 47/100\n",
      "1563/1563 [==============================] - 116s 74ms/step - loss: 0.7920 - accuracy: 0.7307 - val_loss: 0.6870 - val_accuracy: 0.7809\n",
      "Epoch 48/100\n",
      "1563/1563 [==============================] - 115s 74ms/step - loss: 0.7933 - accuracy: 0.7324 - val_loss: 0.6987 - val_accuracy: 0.7717\n",
      "Epoch 49/100\n",
      "1563/1563 [==============================] - 116s 74ms/step - loss: 0.7923 - accuracy: 0.7301 - val_loss: 0.7607 - val_accuracy: 0.7566\n",
      "Epoch 50/100\n",
      "1563/1563 [==============================] - 116s 74ms/step - loss: 0.7867 - accuracy: 0.7364 - val_loss: 0.7101 - val_accuracy: 0.7689\n",
      "Epoch 51/100\n",
      "1563/1563 [==============================] - 116s 74ms/step - loss: 0.7983 - accuracy: 0.7303 - val_loss: 0.7043 - val_accuracy: 0.7723\n",
      "Epoch 52/100\n",
      "1563/1563 [==============================] - 116s 74ms/step - loss: 0.7860 - accuracy: 0.7337 - val_loss: 0.7347 - val_accuracy: 0.7595\n",
      "Epoch 53/100\n",
      "1563/1563 [==============================] - 116s 74ms/step - loss: 0.7879 - accuracy: 0.7326 - val_loss: 0.7273 - val_accuracy: 0.7587\n",
      "Epoch 54/100\n",
      "1563/1563 [==============================] - 116s 74ms/step - loss: 0.7873 - accuracy: 0.7351 - val_loss: 0.7239 - val_accuracy: 0.7636\n",
      "Epoch 55/100\n",
      "1563/1563 [==============================] - 119s 76ms/step - loss: 0.7830 - accuracy: 0.7340 - val_loss: 0.6809 - val_accuracy: 0.7701\n",
      "Epoch 56/100\n"
     ]
    },
    {
     "name": "stdout",
     "output_type": "stream",
     "text": [
      "1563/1563 [==============================] - 119s 76ms/step - loss: 0.7871 - accuracy: 0.7346 - val_loss: 0.7002 - val_accuracy: 0.7708\n",
      "Epoch 57/100\n",
      "1563/1563 [==============================] - 119s 76ms/step - loss: 0.7892 - accuracy: 0.7352 - val_loss: 0.6919 - val_accuracy: 0.7704\n",
      "Epoch 58/100\n",
      "1563/1563 [==============================] - 118s 76ms/step - loss: 0.7829 - accuracy: 0.7359 - val_loss: 0.7398 - val_accuracy: 0.7569\n",
      "Epoch 59/100\n",
      "1563/1563 [==============================] - 118s 76ms/step - loss: 0.7876 - accuracy: 0.7344 - val_loss: 0.6800 - val_accuracy: 0.7865\n",
      "Epoch 60/100\n",
      "1563/1563 [==============================] - 119s 76ms/step - loss: 0.7833 - accuracy: 0.7375 - val_loss: 0.6725 - val_accuracy: 0.7774\n",
      "Epoch 61/100\n",
      "1563/1563 [==============================] - 118s 76ms/step - loss: 0.7877 - accuracy: 0.7378 - val_loss: 0.7295 - val_accuracy: 0.7685\n",
      "Epoch 62/100\n",
      "1563/1563 [==============================] - 119s 76ms/step - loss: 0.7784 - accuracy: 0.7394 - val_loss: 0.7631 - val_accuracy: 0.7526\n",
      "Epoch 63/100\n",
      "1563/1563 [==============================] - 119s 76ms/step - loss: 0.7809 - accuracy: 0.7372 - val_loss: 0.7188 - val_accuracy: 0.7629\n",
      "Epoch 64/100\n",
      "1563/1563 [==============================] - 119s 76ms/step - loss: 0.7777 - accuracy: 0.7399 - val_loss: 0.7227 - val_accuracy: 0.7631\n",
      "Epoch 65/100\n",
      "1563/1563 [==============================] - 119s 76ms/step - loss: 0.7822 - accuracy: 0.7392 - val_loss: 0.6938 - val_accuracy: 0.7722\n",
      "Epoch 66/100\n",
      "1563/1563 [==============================] - 119s 76ms/step - loss: 0.7836 - accuracy: 0.7391 - val_loss: 0.7036 - val_accuracy: 0.7691\n",
      "Epoch 67/100\n",
      "1563/1563 [==============================] - 119s 76ms/step - loss: 0.7780 - accuracy: 0.7400 - val_loss: 0.7102 - val_accuracy: 0.7712\n",
      "Epoch 68/100\n",
      "1563/1563 [==============================] - 119s 76ms/step - loss: 0.7810 - accuracy: 0.7389 - val_loss: 0.6845 - val_accuracy: 0.7765\n",
      "Epoch 69/100\n",
      "1563/1563 [==============================] - 119s 76ms/step - loss: 0.7787 - accuracy: 0.7384 - val_loss: 0.7400 - val_accuracy: 0.7633\n",
      "Epoch 70/100\n",
      "1563/1563 [==============================] - 119s 76ms/step - loss: 0.7827 - accuracy: 0.7391 - val_loss: 0.6977 - val_accuracy: 0.7742\n",
      "Epoch 71/100\n",
      "1563/1563 [==============================] - 119s 76ms/step - loss: 0.7762 - accuracy: 0.7416 - val_loss: 0.7094 - val_accuracy: 0.7651\n",
      "Epoch 72/100\n",
      "1563/1563 [==============================] - 118s 76ms/step - loss: 0.7806 - accuracy: 0.7389 - val_loss: 0.7216 - val_accuracy: 0.7656\n",
      "Epoch 73/100\n",
      "1563/1563 [==============================] - 118s 75ms/step - loss: 0.7719 - accuracy: 0.7431 - val_loss: 0.7203 - val_accuracy: 0.7616\n",
      "Epoch 74/100\n",
      "1563/1563 [==============================] - 117s 75ms/step - loss: 0.7802 - accuracy: 0.7399 - val_loss: 0.7498 - val_accuracy: 0.7610\n",
      "Epoch 75/100\n",
      "1563/1563 [==============================] - 117s 75ms/step - loss: 0.7782 - accuracy: 0.7402 - val_loss: 0.6863 - val_accuracy: 0.7782\n",
      "Epoch 76/100\n",
      "1563/1563 [==============================] - 121s 78ms/step - loss: 0.7796 - accuracy: 0.7414 - val_loss: 0.7134 - val_accuracy: 0.7650\n",
      "Epoch 78/100\n",
      "1563/1563 [==============================] - 119s 76ms/step - loss: 0.7801 - accuracy: 0.7420 - val_loss: 0.7276 - val_accuracy: 0.7632\n",
      "Epoch 79/100\n",
      "1563/1563 [==============================] - 119s 76ms/step - loss: 0.7776 - accuracy: 0.7410 - val_loss: 0.6812 - val_accuracy: 0.7731\n",
      "Epoch 80/100\n",
      "1563/1563 [==============================] - 119s 76ms/step - loss: 0.7821 - accuracy: 0.7393 - val_loss: 0.6516 - val_accuracy: 0.7842\n",
      "Epoch 81/100\n",
      "1563/1563 [==============================] - 119s 76ms/step - loss: 0.7818 - accuracy: 0.7375 - val_loss: 0.7269 - val_accuracy: 0.7633\n",
      "Epoch 82/100\n",
      "1563/1563 [==============================] - 119s 76ms/step - loss: 0.7806 - accuracy: 0.7401 - val_loss: 0.6795 - val_accuracy: 0.7851\n",
      "Epoch 83/100\n",
      "1563/1563 [==============================] - 119s 76ms/step - loss: 0.7788 - accuracy: 0.7403 - val_loss: 0.7311 - val_accuracy: 0.7721\n",
      "Epoch 84/100\n",
      "1563/1563 [==============================] - 119s 76ms/step - loss: 0.7804 - accuracy: 0.7396 - val_loss: 0.7583 - val_accuracy: 0.7441\n",
      "Epoch 85/100\n",
      "1563/1563 [==============================] - 120s 76ms/step - loss: 0.7803 - accuracy: 0.7394 - val_loss: 0.7593 - val_accuracy: 0.7616\n",
      "Epoch 86/100\n",
      "1563/1563 [==============================] - 120s 77ms/step - loss: 0.7869 - accuracy: 0.7378 - val_loss: 0.6823 - val_accuracy: 0.7740\n",
      "Epoch 87/100\n",
      "1563/1563 [==============================] - 120s 76ms/step - loss: 0.7886 - accuracy: 0.7398 - val_loss: 0.7644 - val_accuracy: 0.7491\n",
      "Epoch 88/100\n",
      "1563/1563 [==============================] - 120s 77ms/step - loss: 0.7863 - accuracy: 0.7389 - val_loss: 0.7180 - val_accuracy: 0.7631\n",
      "Epoch 89/100\n",
      "1563/1563 [==============================] - 119s 76ms/step - loss: 0.7877 - accuracy: 0.7395 - val_loss: 0.7857 - val_accuracy: 0.7506\n",
      "Epoch 90/100\n",
      "1563/1563 [==============================] - 119s 76ms/step - loss: 0.7854 - accuracy: 0.7392 - val_loss: 0.7231 - val_accuracy: 0.7633\n",
      "Epoch 91/100\n",
      "1563/1563 [==============================] - 120s 76ms/step - loss: 0.7898 - accuracy: 0.7359 - val_loss: 0.6762 - val_accuracy: 0.7786\n",
      "Epoch 92/100\n",
      "1563/1563 [==============================] - 119s 76ms/step - loss: 0.7947 - accuracy: 0.7378 - val_loss: 0.7490 - val_accuracy: 0.7618\n",
      "Epoch 93/100\n",
      "1563/1563 [==============================] - 120s 77ms/step - loss: 0.7897 - accuracy: 0.7390 - val_loss: 0.8151 - val_accuracy: 0.7273\n",
      "Epoch 94/100\n",
      "1563/1563 [==============================] - 120s 77ms/step - loss: 0.7924 - accuracy: 0.7377 - val_loss: 0.7286 - val_accuracy: 0.7631\n",
      "Epoch 95/100\n",
      "1563/1563 [==============================] - 120s 77ms/step - loss: 0.7944 - accuracy: 0.7389 - val_loss: 0.7701 - val_accuracy: 0.7406\n",
      "Epoch 96/100\n",
      "1563/1563 [==============================] - 120s 77ms/step - loss: 0.7988 - accuracy: 0.7339 - val_loss: 0.7300 - val_accuracy: 0.7586\n",
      "Epoch 97/100\n",
      "1563/1563 [==============================] - 120s 77ms/step - loss: 0.7936 - accuracy: 0.7394 - val_loss: 0.6919 - val_accuracy: 0.7672\n",
      "Epoch 98/100\n",
      "1563/1563 [==============================] - 120s 77ms/step - loss: 0.7928 - accuracy: 0.7372 - val_loss: 0.7229 - val_accuracy: 0.7727\n",
      "Epoch 99/100\n",
      "1563/1563 [==============================] - 120s 77ms/step - loss: 0.7963 - accuracy: 0.7363 - val_loss: 0.7799 - val_accuracy: 0.7382\n",
      "Epoch 100/100\n",
      "1563/1563 [==============================] - 119s 76ms/step - loss: 0.7971 - accuracy: 0.7376 - val_loss: 0.7125 - val_accuracy: 0.7692\n"
     ]
    },
    {
     "data": {
      "text/plain": [
       "<keras.callbacks.callbacks.History at 0x7f6754083410>"
      ]
     },
     "execution_count": 13,
     "metadata": {},
     "output_type": "execute_result"
    }
   ],
   "source": [
    "model.fit_generator(datagen.flow(x_train, y_train,\n",
    "                                     batch_size=batch_size),\n",
    "                        epochs=epochs,\n",
    "                        validation_data=(x_test, y_test),\n",
    "                        workers=4)"
   ]
  },
  {
   "cell_type": "markdown",
   "metadata": {},
   "source": [
    "### Saving model and weights"
   ]
  },
  {
   "cell_type": "code",
   "execution_count": null,
   "metadata": {},
   "outputs": [],
   "source": [
    "if not os.path.isdir(save_dir):\n",
    "    os.makedirs(save_dir)\n",
    "model_path = os.path.join(save_dir, model_name)\n",
    "model.save(model_path)\n",
    "print('Saved trained model at %s ' % model_path)"
   ]
  },
  {
   "cell_type": "markdown",
   "metadata": {},
   "source": [
    "### Evaluating model on test data set"
   ]
  },
  {
   "cell_type": "code",
   "execution_count": null,
   "metadata": {},
   "outputs": [],
   "source": [
    "scores = model.evaluate(x_test, y_test, verbose=1)\n",
    "print('Test loss:', scores[0])\n",
    "print('Test accuracy:', scores[1])"
   ]
  }
 ],
 "metadata": {
  "kernelspec": {
   "display_name": "Python 3",
   "language": "python",
   "name": "python3"
  },
  "language_info": {
   "codemirror_mode": {
    "name": "ipython",
    "version": 3
   },
   "file_extension": ".py",
   "mimetype": "text/x-python",
   "name": "python",
   "nbconvert_exporter": "python",
   "pygments_lexer": "ipython3",
   "version": "3.7.6"
  }
 },
 "nbformat": 4,
 "nbformat_minor": 2
}
